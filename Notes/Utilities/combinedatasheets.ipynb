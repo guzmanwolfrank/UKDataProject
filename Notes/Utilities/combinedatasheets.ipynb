{
 "cells": [
  {
   "cell_type": "code",
   "execution_count": 1,
   "metadata": {},
   "outputs": [
    {
     "name": "stdout",
     "output_type": "stream",
     "text": [
      "\n",
      "Processing directory: Cleaned_Data/Accidents\n",
      "Combined 529294 rows from 4 files\n",
      "Output saved to: Cleaned_Data\\combined_accidents.csv\n",
      "\n",
      "Processing directory: Cleaned_Data/Casualties\n",
      "Combined 699163 rows from 4 files\n",
      "Output saved to: Cleaned_Data\\combined_casualties.csv\n",
      "\n",
      "Processing directory: Cleaned_Data/Vehicles\n",
      "Combined 975680 rows from 4 files\n",
      "Output saved to: Cleaned_Data\\combined_vehicles.csv\n"
     ]
    }
   ],
   "source": [
    "import pandas as pd\n",
    "import os\n",
    "from pathlib import Path\n",
    "\n",
    "def combine_csv_files(input_path):\n",
    "    \"\"\"\n",
    "    Combines all CSV files in the specified directory into a single CSV file.\n",
    "    \n",
    "    Args:\n",
    "        input_path (str): Path to the directory containing CSV files\n",
    "    \n",
    "    Returns:\n",
    "        pd.DataFrame: Combined dataframe\n",
    "        str: Output file path\n",
    "    \"\"\"\n",
    "    # Create Path object\n",
    "    directory = Path(input_path)\n",
    "    \n",
    "    # Check if directory exists\n",
    "    if not directory.exists():\n",
    "        raise FileNotFoundError(f\"Directory not found: {input_path}\")\n",
    "    \n",
    "    # Get all CSV files in the directory\n",
    "    csv_files = list(directory.glob('*.csv'))\n",
    "    \n",
    "    if not csv_files:\n",
    "        raise FileNotFoundError(f\"No CSV files found in {input_path}\")\n",
    "    \n",
    "    # Read and combine all CSV files\n",
    "    dfs = []\n",
    "    for file in csv_files:\n",
    "        df = pd.read_csv(file)\n",
    "        # Add source filename as a column\n",
    "        df['Source_File'] = file.name\n",
    "        dfs.append(df)\n",
    "    \n",
    "    # Combine all dataframes\n",
    "    combined_df = pd.concat(dfs, ignore_index=True)\n",
    "    \n",
    "    # Create output filename based on directory name\n",
    "    output_filename = f\"combined_{directory.name.lower()}.csv\"\n",
    "    output_path = directory.parent / output_filename\n",
    "    \n",
    "    # Save combined dataframe\n",
    "    combined_df.to_csv(output_path, index=False)\n",
    "    \n",
    "    return combined_df, str(output_path)\n",
    "\n",
    "def main():\n",
    "    # List of directories to process\n",
    "    directories = [\n",
    "        \"Cleaned_Data/Accidents\",\n",
    "        \"Cleaned_Data/Casualties\",\n",
    "        \"Cleaned_Data/Vehicles\"\n",
    "    ]\n",
    "    \n",
    "    # Process each directory\n",
    "    for directory in directories:\n",
    "        try:\n",
    "            print(f\"\\nProcessing directory: {directory}\")\n",
    "            df, output_path = combine_csv_files(directory)\n",
    "            print(f\"Combined {len(df)} rows from {df['Source_File'].nunique()} files\")\n",
    "            print(f\"Output saved to: {output_path}\")\n",
    "            \n",
    "        except FileNotFoundError as e:\n",
    "            print(f\"Error: {e}\")\n",
    "        except Exception as e:\n",
    "            print(f\"An error occurred while processing {directory}: {e}\")\n",
    "\n",
    "if __name__ == \"__main__\":\n",
    "    main()"
   ]
  },
  {
   "cell_type": "code",
   "execution_count": null,
   "metadata": {},
   "outputs": [],
   "source": []
  },
  {
   "cell_type": "code",
   "execution_count": null,
   "metadata": {},
   "outputs": [],
   "source": []
  },
  {
   "cell_type": "code",
   "execution_count": null,
   "metadata": {},
   "outputs": [],
   "source": []
  },
  {
   "cell_type": "code",
   "execution_count": null,
   "metadata": {},
   "outputs": [],
   "source": []
  }
 ],
 "metadata": {
  "kernelspec": {
   "display_name": "Python 3",
   "language": "python",
   "name": "python3"
  },
  "language_info": {
   "codemirror_mode": {
    "name": "ipython",
    "version": 3
   },
   "file_extension": ".py",
   "mimetype": "text/x-python",
   "name": "python",
   "nbconvert_exporter": "python",
   "pygments_lexer": "ipython3",
   "version": "3.11.3"
  }
 },
 "nbformat": 4,
 "nbformat_minor": 2
}
