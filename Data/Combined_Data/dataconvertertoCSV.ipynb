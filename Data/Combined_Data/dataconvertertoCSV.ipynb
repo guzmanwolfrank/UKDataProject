{
 "cells": [
  {
   "cell_type": "code",
   "execution_count": 9,
   "metadata": {},
   "outputs": [
    {
     "name": "stdout",
     "output_type": "stream",
     "text": [
      "\n",
      "No files were converted.\n",
      "Output Directory: c:\\Users\\Wolfrank\\Desktop\\GiGabyte\\CodeWolf\\UKDataProject\\Data\\Combined_Data\\Combined_Data\\CSV\n",
      "Conversion complete.\n"
     ]
    }
   ],
   "source": [
    "import os\n",
    "import pandas as pd\n",
    "import openpyxl\n",
    "import io\n",
    "\n",
    "def convert_excel_to_csv(input_folder, output_folder):\n",
    "    \"\"\"Converts Excel files to CSV.\"\"\"\n",
    "    os.makedirs(output_folder, exist_ok=True)\n",
    "\n",
    "    converted_files = [] # Keep track of converted files\n",
    "\n",
    "    for filename in os.listdir(input_folder):\n",
    "        if filename.lower().endswith((\".xls\", \".xlsx\")):\n",
    "            input_path = os.path.join(input_folder, filename)\n",
    "            base_name = os.path.splitext(filename)[0]\n",
    "            output_path = os.path.join(output_folder, f\"{base_name}.csv\")\n",
    "\n",
    "            try:\n",
    "                if filename.lower().endswith(\".xls\"):\n",
    "                    try:\n",
    "                        df = pd.read_excel(input_path, engine='xlrd')\n",
    "                    except ImportError:\n",
    "                        print(\"xlrd not installed. Install with: pip install xlrd\")\n",
    "                        continue\n",
    "                    except Exception as e:\n",
    "                        print(f\"Error reading {filename} with xlrd: {e}\")\n",
    "                        continue\n",
    "                else:\n",
    "                    try:\n",
    "                        df = pd.read_excel(input_path, engine='openpyxl')\n",
    "                    except ImportError:\n",
    "                        print(\"openpyxl not installed. Install with: pip install openpyxl\")\n",
    "                        continue\n",
    "                    except Exception as e:\n",
    "                        print(f\"Error reading {filename} with openpyxl: {e}\")\n",
    "                        continue\n",
    "\n",
    "                df.to_csv(output_path, index=False, encoding='utf-8-sig')\n",
    "                converted_files.append(output_path) # Add to list\n",
    "                print(f\"Converted {filename} to {base_name}.csv\")\n",
    "\n",
    "            except Exception as e:\n",
    "                print(f\"Error converting {filename}: {e}\")\n",
    "    return converted_files # Return the list\n",
    "\n",
    "if __name__ == \"__main__\":\n",
    "    input_directory = r\"C:\\Users\\Wolfrank\\Desktop\\GiGabyte\\CodeWolf\\UKDataProject\\Data\\Combined_Data\"\n",
    "    output_directory = \"Combined_Data/CSV\"  # Relative path\n",
    "\n",
    "    converted_files = convert_excel_to_csv(input_directory, output_directory)\n",
    "\n",
    "    if converted_files: #Check if any files were converted\n",
    "        print(\"\\nConverted files were saved to:\")\n",
    "        for file_path in converted_files:\n",
    "            print(file_path)\n",
    "    else:\n",
    "        print(\"\\nNo files were converted.\")\n",
    "    \n",
    "    #More explicit output directory message\n",
    "    output_path_full = os.path.abspath(output_directory)\n",
    "    print(f\"Output Directory: {output_path_full}\")\n",
    "\n",
    "    print(\"Conversion complete.\")"
   ]
  },
  {
   "cell_type": "code",
   "execution_count": null,
   "metadata": {},
   "outputs": [],
   "source": []
  },
  {
   "cell_type": "code",
   "execution_count": null,
   "metadata": {},
   "outputs": [],
   "source": []
  },
  {
   "cell_type": "code",
   "execution_count": null,
   "metadata": {},
   "outputs": [],
   "source": []
  },
  {
   "cell_type": "code",
   "execution_count": null,
   "metadata": {},
   "outputs": [],
   "source": []
  }
 ],
 "metadata": {
  "kernelspec": {
   "display_name": "Python 3",
   "language": "python",
   "name": "python3"
  },
  "language_info": {
   "codemirror_mode": {
    "name": "ipython",
    "version": 3
   },
   "file_extension": ".py",
   "mimetype": "text/x-python",
   "name": "python",
   "nbconvert_exporter": "python",
   "pygments_lexer": "ipython3",
   "version": "3.11.3"
  }
 },
 "nbformat": 4,
 "nbformat_minor": 2
}
