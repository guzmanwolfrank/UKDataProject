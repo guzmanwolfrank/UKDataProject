{
 "cells": [
  {
   "cell_type": "code",
   "execution_count": 1,
   "metadata": {},
   "outputs": [
    {
     "name": "stderr",
     "output_type": "stream",
     "text": [
      "C:\\Users\\Wolfrank\\AppData\\Local\\Temp\\ipykernel_16944\\3258936346.py:12: MatplotlibDeprecationWarning: The seaborn styles shipped by Matplotlib are deprecated since 3.6, as they no longer correspond to the styles shipped by seaborn. However, they will remain available as 'seaborn-v0_8-<style>'. Alternatively, directly use the seaborn API instead.\n",
      "  plt.style.use('seaborn')\n"
     ]
    },
    {
     "name": "stdout",
     "output_type": "stream",
     "text": [
      "Created visualizations directory\n",
      "Reading data files...\n",
      "Processing data...\n",
      "Data preprocessing complete!\n"
     ]
    }
   ],
   "source": [
    "import pandas as pd\n",
    "import seaborn as sns\n",
    "import matplotlib.pyplot as plt\n",
    "import numpy as np\n",
    "from datetime import datetime\n",
    "import plotly.express as px\n",
    "import plotly.graph_objects as go\n",
    "from plotly.subplots import make_subplots\n",
    "import os\n",
    "\n",
    "# Set style parameters\n",
    "plt.style.use('seaborn')\n",
    "blue_palette = ['#1f77b4', '#7aa6c2', '#aec7e8', '#c7d9e8', '#e1e7ed']\n",
    "sns.set_palette(blue_palette)\n",
    "\n",
    "# Define the correct data path\n",
    "data_path = os.path.join('Data', 'Combined_Data')\n",
    "\n",
    "# Create output directory\n",
    "os.makedirs('visualizations', exist_ok=True)\n",
    "print(\"Created visualizations directory\")\n",
    "\n",
    "# Verify files exist in the Combined_Data directory\n",
    "required_files = ['combined_accidents.csv', 'combined_casualties.csv', 'combined_vehicles.csv']\n",
    "for file in required_files:\n",
    "    file_path = os.path.join(data_path, file)\n",
    "    if not os.path.exists(file_path):\n",
    "        raise FileNotFoundError(f\"Missing required file: {file_path}\")\n",
    "\n",
    "# Read the data\n",
    "print(\"Reading data files...\")\n",
    "accidents_df = pd.read_csv(os.path.join(data_path, 'combined_accidents.csv'))\n",
    "casualties_df = pd.read_csv(os.path.join(data_path, 'combined_casualties.csv'))\n",
    "vehicles_df = pd.read_csv(os.path.join(data_path, 'combined_vehicles.csv'))\n",
    "\n",
    "# Data preprocessing\n",
    "print(\"Processing data...\")\n",
    "\n",
    "# Convert Date column to datetime with UK format (day first)\n",
    "accidents_df['Date'] = pd.to_datetime(accidents_df['Date'], dayfirst=True)\n",
    "accidents_df['Year'] = accidents_df['Date'].dt.year\n",
    "accidents_df['Month'] = accidents_df['Date'].dt.month\n",
    "\n",
    "# Define time parsing function\n",
    "def parse_time(time_str):\n",
    "    \"\"\"Parse time string to hour, handling 'Unknown' and invalid values.\"\"\"\n",
    "    if pd.isna(time_str) or time_str == 'Unknown':\n",
    "        return np.nan\n",
    "    try:\n",
    "        # For HH:MM format\n",
    "        if ':' in str(time_str):\n",
    "            return int(str(time_str).split(':')[0])\n",
    "        return np.nan\n",
    "    except:\n",
    "        return np.nan\n",
    "\n",
    "# Convert Time to Hour with robust parsing\n",
    "accidents_df['Hour'] = accidents_df['Time'].apply(parse_time)\n",
    "\n",
    "# Create day of week numerical mapping\n",
    "day_order = ['Monday', 'Tuesday', 'Wednesday', 'Thursday', 'Friday', 'Saturday', 'Sunday']\n",
    "accidents_df['Day_Num'] = pd.Categorical(accidents_df['Day_of_Week'], \n",
    "                                       categories=day_order,\n",
    "                                       ordered=True).codes\n",
    "\n",
    "# Calculate summary statistics\n",
    "total_accidents = len(accidents_df)\n",
    "total_casualties = len(casualties_df)\n",
    "total_vehicles = len(vehicles_df)\n",
    "severity_counts = accidents_df['Accident_Severity'].value_counts()\n",
    "yearly_counts = accidents_df['Year'].value_counts().sort_index()\n",
    "\n",
    "# Calculate temporal statistics\n",
    "hourly_distribution = accidents_df['Hour'].value_counts().sort_index()\n",
    "daily_distribution = accidents_df['Day_of_Week'].value_counts()\n",
    "monthly_distribution = accidents_df['Month'].value_counts().sort_index()\n",
    "\n",
    "# Calculate weather impact statistics\n",
    "weather_severity = pd.crosstab(accidents_df['Weather_Conditions'], \n",
    "                             accidents_df['Accident_Severity'], \n",
    "                             normalize='index') * 100\n",
    "\n",
    "# Calculate casualty statistics\n",
    "casualty_age_stats = casualties_df.groupby('Casualty_Severity')['Age_of_Casualty'].agg(['mean', 'median', 'std']).round(1)\n",
    "\n",
    "# Calculate vehicle type statistics\n",
    "vehicle_type_stats = vehicles_df['Vehicle_Type'].value_counts()\n",
    "\n",
    "# Initialize list to store plot divs for HTML generation\n",
    "plot_divs = []\n",
    "\n",
    "print(\"Data preprocessing complete!\")"
   ]
  },
  {
   "cell_type": "code",
   "execution_count": null,
   "metadata": {},
   "outputs": [],
   "source": []
  },
  {
   "cell_type": "code",
   "execution_count": null,
   "metadata": {},
   "outputs": [],
   "source": []
  },
  {
   "cell_type": "code",
   "execution_count": null,
   "metadata": {},
   "outputs": [],
   "source": []
  },
  {
   "cell_type": "code",
   "execution_count": null,
   "metadata": {},
   "outputs": [],
   "source": []
  }
 ],
 "metadata": {
  "kernelspec": {
   "display_name": "Python 3",
   "language": "python",
   "name": "python3"
  },
  "language_info": {
   "codemirror_mode": {
    "name": "ipython",
    "version": 3
   },
   "file_extension": ".py",
   "mimetype": "text/x-python",
   "name": "python",
   "nbconvert_exporter": "python",
   "pygments_lexer": "ipython3",
   "version": "3.11.3"
  }
 },
 "nbformat": 4,
 "nbformat_minor": 2
}
